{
 "cells": [
  {
   "cell_type": "code",
   "execution_count": 4,
   "metadata": {
    "id": "0UXPl9GFBjnl"
   },
   "outputs": [],
   "source": [
    "from sklearn.datasets import make_blobs\n",
    "from sklearn.datasets import make_classification\n",
    "from sklearn.neighbors import KNeighborsClassifier\n",
    "from sklearn.cluster import KMeans\n",
    "\n",
    "from sklearn.feature_selection import SelectKBest\n",
    "from sklearn.feature_selection import RFE\n",
    "from sklearn.feature_selection import RFECV\n",
    "\n",
    "\n",
    "# import libraries for model validation\n",
    "from sklearn.model_selection import cross_val_score\n",
    "from sklearn.model_selection import train_test_split\n",
    "from sklearn.model_selection import KFold \n",
    "\n",
    "# import libraries for metrics and reporting\n",
    "from sklearn.metrics import confusion_matrix\n",
    "from sklearn.metrics import classification_report\n",
    "from sklearn.metrics import accuracy_score\n",
    "from sklearn.metrics import precision_score\n",
    "from sklearn.metrics import recall_score\n",
    "from sklearn.metrics import f1_score\n",
    "from sklearn import metrics\n",
    "from sklearn.metrics import classification_report\n",
    "from sklearn.metrics import roc_curve, auc\n",
    "from sklearn.metrics import adjusted_rand_score\n",
    "from sklearn.model_selection import GridSearchCV\n",
    "from statsmodels.stats.outliers_influence import variance_inflation_factor\n",
    "from scipy.stats import pearsonr\n",
    "import statistics\n",
    "import pandas as pd\n",
    "import numpy as np"
   ]
  },
  {
   "cell_type": "code",
   "execution_count": 5,
   "metadata": {
    "id": "kXrj0GUFCIPF"
   },
   "outputs": [],
   "source": [
    "us = pd.read_csv('/content/drive/MyDrive/Data/US Presidential Data.csv')"
   ]
  },
  {
   "cell_type": "code",
   "execution_count": 6,
   "metadata": {
    "colab": {
     "base_uri": "https://localhost:8080/",
     "height": 199
    },
    "id": "bmcI8gEXCfVf",
    "outputId": "dbef856d-cb78-4293-fb58-575a2fe0a863"
   },
   "outputs": [
    {
     "data": {
      "text/html": [
       "<div>\n",
       "<style scoped>\n",
       "    .dataframe tbody tr th:only-of-type {\n",
       "        vertical-align: middle;\n",
       "    }\n",
       "\n",
       "    .dataframe tbody tr th {\n",
       "        vertical-align: top;\n",
       "    }\n",
       "\n",
       "    .dataframe thead th {\n",
       "        text-align: right;\n",
       "    }\n",
       "</style>\n",
       "<table border=\"1\" class=\"dataframe\">\n",
       "  <thead>\n",
       "    <tr style=\"text-align: right;\">\n",
       "      <th></th>\n",
       "      <th>Win/Loss</th>\n",
       "      <th>Optimism</th>\n",
       "      <th>Pessimism</th>\n",
       "      <th>PastUsed</th>\n",
       "      <th>FutureUsed</th>\n",
       "      <th>PresentUsed</th>\n",
       "      <th>OwnPartyCount</th>\n",
       "      <th>OppPartyCount</th>\n",
       "      <th>NumericContent</th>\n",
       "      <th>Extra</th>\n",
       "      <th>Emoti</th>\n",
       "      <th>Agree</th>\n",
       "      <th>Consc</th>\n",
       "      <th>Openn</th>\n",
       "    </tr>\n",
       "  </thead>\n",
       "  <tbody>\n",
       "    <tr>\n",
       "      <th>0</th>\n",
       "      <td>1</td>\n",
       "      <td>0.104505</td>\n",
       "      <td>0.050450</td>\n",
       "      <td>0.438144</td>\n",
       "      <td>0.494845</td>\n",
       "      <td>0.067010</td>\n",
       "      <td>2</td>\n",
       "      <td>2</td>\n",
       "      <td>0.001878</td>\n",
       "      <td>4.041</td>\n",
       "      <td>4.049</td>\n",
       "      <td>3.469</td>\n",
       "      <td>2.450</td>\n",
       "      <td>2.548</td>\n",
       "    </tr>\n",
       "    <tr>\n",
       "      <th>1</th>\n",
       "      <td>1</td>\n",
       "      <td>0.114575</td>\n",
       "      <td>0.059236</td>\n",
       "      <td>0.291262</td>\n",
       "      <td>0.621359</td>\n",
       "      <td>0.087379</td>\n",
       "      <td>1</td>\n",
       "      <td>4</td>\n",
       "      <td>0.001419</td>\n",
       "      <td>3.446</td>\n",
       "      <td>3.633</td>\n",
       "      <td>3.528</td>\n",
       "      <td>2.402</td>\n",
       "      <td>2.831</td>\n",
       "    </tr>\n",
       "    <tr>\n",
       "      <th>2</th>\n",
       "      <td>1</td>\n",
       "      <td>0.112572</td>\n",
       "      <td>0.049302</td>\n",
       "      <td>0.415966</td>\n",
       "      <td>0.516807</td>\n",
       "      <td>0.067227</td>\n",
       "      <td>1</td>\n",
       "      <td>1</td>\n",
       "      <td>0.002131</td>\n",
       "      <td>3.463</td>\n",
       "      <td>4.039</td>\n",
       "      <td>3.284</td>\n",
       "      <td>2.159</td>\n",
       "      <td>2.465</td>\n",
       "    </tr>\n",
       "    <tr>\n",
       "      <th>3</th>\n",
       "      <td>1</td>\n",
       "      <td>0.107234</td>\n",
       "      <td>0.046320</td>\n",
       "      <td>0.463492</td>\n",
       "      <td>0.466667</td>\n",
       "      <td>0.069841</td>\n",
       "      <td>1</td>\n",
       "      <td>3</td>\n",
       "      <td>0.001872</td>\n",
       "      <td>4.195</td>\n",
       "      <td>4.661</td>\n",
       "      <td>4.007</td>\n",
       "      <td>2.801</td>\n",
       "      <td>3.067</td>\n",
       "    </tr>\n",
       "    <tr>\n",
       "      <th>4</th>\n",
       "      <td>1</td>\n",
       "      <td>0.105826</td>\n",
       "      <td>0.051724</td>\n",
       "      <td>0.334262</td>\n",
       "      <td>0.582173</td>\n",
       "      <td>0.083565</td>\n",
       "      <td>3</td>\n",
       "      <td>4</td>\n",
       "      <td>0.002229</td>\n",
       "      <td>4.658</td>\n",
       "      <td>4.023</td>\n",
       "      <td>3.283</td>\n",
       "      <td>2.415</td>\n",
       "      <td>2.836</td>\n",
       "    </tr>\n",
       "  </tbody>\n",
       "</table>\n",
       "</div>"
      ],
      "text/plain": [
       "   Win/Loss  Optimism  Pessimism  PastUsed  ...  Emoti  Agree  Consc  Openn\n",
       "0         1  0.104505   0.050450  0.438144  ...  4.049  3.469  2.450  2.548\n",
       "1         1  0.114575   0.059236  0.291262  ...  3.633  3.528  2.402  2.831\n",
       "2         1  0.112572   0.049302  0.415966  ...  4.039  3.284  2.159  2.465\n",
       "3         1  0.107234   0.046320  0.463492  ...  4.661  4.007  2.801  3.067\n",
       "4         1  0.105826   0.051724  0.334262  ...  4.023  3.283  2.415  2.836\n",
       "\n",
       "[5 rows x 14 columns]"
      ]
     },
     "execution_count": 6,
     "metadata": {
      "tags": []
     },
     "output_type": "execute_result"
    }
   ],
   "source": [
    "us.head()"
   ]
  },
  {
   "cell_type": "code",
   "execution_count": 7,
   "metadata": {
    "colab": {
     "base_uri": "https://localhost:8080/"
    },
    "id": "vMUV-3olCgji",
    "outputId": "dc06c2d7-3a9b-4a9a-9046-d63b6a2ba8b1"
   },
   "outputs": [
    {
     "name": "stdout",
     "output_type": "stream",
     "text": [
      "Index(['Win/Loss', 'Optimism', 'Pessimism', 'PastUsed', 'FutureUsed',\n",
      "       'PresentUsed', 'OwnPartyCount', 'OppPartyCount', 'NumericContent',\n",
      "       'Extra', 'Emoti', 'Agree', 'Consc', 'Openn'],\n",
      "      dtype='object')\n"
     ]
    }
   ],
   "source": [
    "print(us.columns)"
   ]
  },
  {
   "cell_type": "code",
   "execution_count": 8,
   "metadata": {
    "colab": {
     "base_uri": "https://localhost:8080/"
    },
    "id": "UBiVHRRDCnth",
    "outputId": "064bced7-c878-4e97-f0c8-74067a6a266e"
   },
   "outputs": [
    {
     "data": {
      "text/plain": [
       "Win/Loss            int64\n",
       "Optimism          float64\n",
       "Pessimism         float64\n",
       "PastUsed          float64\n",
       "FutureUsed        float64\n",
       "PresentUsed       float64\n",
       "OwnPartyCount       int64\n",
       "OppPartyCount       int64\n",
       "NumericContent    float64\n",
       "Extra             float64\n",
       "Emoti             float64\n",
       "Agree             float64\n",
       "Consc             float64\n",
       "Openn             float64\n",
       "dtype: object"
      ]
     },
     "execution_count": 8,
     "metadata": {
      "tags": []
     },
     "output_type": "execute_result"
    }
   ],
   "source": [
    "us.dtypes"
   ]
  },
  {
   "cell_type": "code",
   "execution_count": 61,
   "metadata": {
    "colab": {
     "base_uri": "https://localhost:8080/"
    },
    "id": "BEsQa5wYWc8Q",
    "outputId": "9e8827a0-c392-4153-d267-1fc5966c3ce7"
   },
   "outputs": [
    {
     "data": {
      "text/plain": [
       "Win/Loss          0\n",
       "Optimism          0\n",
       "Pessimism         0\n",
       "PastUsed          0\n",
       "FutureUsed        0\n",
       "PresentUsed       0\n",
       "OwnPartyCount     0\n",
       "OppPartyCount     0\n",
       "NumericContent    0\n",
       "Extra             0\n",
       "Emoti             0\n",
       "Agree             0\n",
       "Consc             0\n",
       "Openn             0\n",
       "dtype: int64"
      ]
     },
     "execution_count": 61,
     "metadata": {
      "tags": []
     },
     "output_type": "execute_result"
    }
   ],
   "source": [
    "us.isnull().sum()"
   ]
  },
  {
   "cell_type": "code",
   "execution_count": 10,
   "metadata": {
    "id": "3ZFbJq8zCslU"
   },
   "outputs": [],
   "source": [
    "feature_names = ['Optimism','Pessimism','PastUsed','FutureUsed','PresentUsed','OwnPartyCount','OppPartyCount','NumericContent','Extra','Emoti','Consc','Openn']\n",
    "X = us[feature_names] \n",
    "y = us['Win/Loss']"
   ]
  },
  {
   "cell_type": "code",
   "execution_count": 19,
   "metadata": {
    "id": "bMf7KC4yDt6f"
   },
   "outputs": [],
   "source": [
    "X_train, X_test, y_train, y_test = train_test_split(X, y, stratify =us['Win/Loss'] , random_state=0,test_size = 0.30)"
   ]
  },
  {
   "cell_type": "code",
   "execution_count": 20,
   "metadata": {
    "id": "mAHcksC1EBFA"
   },
   "outputs": [],
   "source": [
    "from sklearn.preprocessing import StandardScaler\n",
    "scaler = StandardScaler()\n",
    "scaler.fit(X_train)\n",
    "\n",
    "X_train = scaler.transform(X_train)\n",
    "X_test = scaler.transform(X_test)"
   ]
  },
  {
   "cell_type": "code",
   "execution_count": 21,
   "metadata": {
    "colab": {
     "base_uri": "https://localhost:8080/"
    },
    "id": "1aFkt-naG5vp",
    "outputId": "a9d9a5f2-2c1f-4f6f-8380-89459480d8cb"
   },
   "outputs": [
    {
     "data": {
      "text/plain": [
       "KNeighborsClassifier(algorithm='auto', leaf_size=30, metric='minkowski',\n",
       "                     metric_params=None, n_jobs=None, n_neighbors=5, p=2,\n",
       "                     weights='uniform')"
      ]
     },
     "execution_count": 21,
     "metadata": {
      "tags": []
     },
     "output_type": "execute_result"
    }
   ],
   "source": [
    "classifier = KNeighborsClassifier(n_neighbors=5)\n",
    "classifier.fit(X_train, y_train)"
   ]
  },
  {
   "cell_type": "code",
   "execution_count": 22,
   "metadata": {
    "id": "RTH_zk4pG-i0"
   },
   "outputs": [],
   "source": [
    "y_pred = classifier.predict(X_test)"
   ]
  },
  {
   "cell_type": "code",
   "execution_count": 23,
   "metadata": {
    "colab": {
     "base_uri": "https://localhost:8080/"
    },
    "id": "LEwjRr1VHC2p",
    "outputId": "e3e066c5-db13-4474-d4e8-4f9b8b66fc38"
   },
   "outputs": [
    {
     "data": {
      "text/plain": [
       "array([0, 0, 1, 0, 1, 1, 0, 1, 1, 1, 1, 0, 1, 0, 1, 1, 0, 1, 1, 1, 1, 1,\n",
       "       0, 0, 1, 1, 1, 1, 0, 1, 1, 1, 0, 1, 1, 1, 0, 0, 1, 1, 1, 1, 1, 1,\n",
       "       1, 0, 1, 1, 1, 1, 0, 0, 1, 1, 0, 0, 1, 1, 1, 0, 1, 1, 1, 1, 1, 1,\n",
       "       1, 1, 1, 0, 0, 1, 0, 1, 0, 0, 1, 1, 0, 1, 1, 0, 0, 0, 1, 1, 1, 0,\n",
       "       1, 1, 1, 0, 1, 1, 1, 1, 1, 1, 1, 1, 1, 1, 1, 0, 1, 1, 0, 0, 0, 0,\n",
       "       0, 0, 0, 1, 1, 1, 0, 1, 1, 1, 0, 1, 1, 0, 0, 1, 1, 1, 1, 0, 1, 0,\n",
       "       1, 1, 1, 1, 1, 1, 1, 0, 0, 1, 1, 1, 0, 1, 1, 0, 1, 1, 1, 1, 0, 1,\n",
       "       0, 0, 0, 0, 1, 1, 1, 1, 1, 0, 0, 0, 1, 1, 0, 1, 1, 0, 0, 1, 1, 0,\n",
       "       0, 1, 1, 0, 1, 0, 1, 1, 1, 0, 1, 0, 1, 0, 1, 1, 1, 0, 1, 0, 0, 1,\n",
       "       0, 1, 0, 1, 1, 0, 1, 0, 0, 1, 1, 1, 0, 1, 1, 0, 1, 1, 1, 1, 0, 0,\n",
       "       0, 1, 1, 1, 0, 1, 1, 0, 1, 1, 1, 0, 1, 1, 1, 1, 1, 1, 1, 1, 1, 1,\n",
       "       1, 0, 0, 0, 0, 1, 0, 1, 1, 0, 1, 1, 1, 1, 1, 0, 1, 1, 0, 0, 1, 1,\n",
       "       0, 0, 1, 0, 1, 1, 1, 1, 1, 1, 1, 0, 1, 1, 0, 0, 1, 0, 1, 1, 1, 1,\n",
       "       1, 0, 1, 0, 1, 0, 1, 1, 1, 1, 1, 1, 0, 1, 1, 1, 0, 1, 0, 1, 1, 1,\n",
       "       1, 0, 1, 1, 1, 1, 1, 1, 1, 1, 1, 0, 1, 0, 1, 1, 0, 0, 1, 1, 0, 1,\n",
       "       1, 0, 1, 1, 1, 1, 0, 1, 1, 1, 1, 1, 0, 0, 1, 1, 1, 0, 1, 0, 1, 0,\n",
       "       1, 1, 0, 1, 0, 0, 0, 1, 0, 1, 1, 0, 1, 0, 0, 0, 1, 0, 1, 1, 0, 1,\n",
       "       1, 0, 0, 1, 0, 0, 1, 0, 1, 1, 0, 1, 0, 0, 1, 1, 0, 0, 1, 1, 0, 1,\n",
       "       1, 1, 0, 1, 1, 0, 1, 0, 1, 0, 1, 0, 0, 0, 1, 1, 0, 1, 1, 1, 0, 0,\n",
       "       0, 1, 1, 0, 1, 1, 1, 1, 1, 0, 1, 1, 0, 1, 1, 0, 1, 1, 0, 1, 1, 0,\n",
       "       1, 1, 0, 1, 1, 0, 0, 1, 0, 1, 1, 1, 1, 1, 0, 1, 0, 1])"
      ]
     },
     "execution_count": 23,
     "metadata": {
      "tags": []
     },
     "output_type": "execute_result"
    }
   ],
   "source": [
    "y_pred"
   ]
  },
  {
   "cell_type": "code",
   "execution_count": 24,
   "metadata": {
    "colab": {
     "base_uri": "https://localhost:8080/"
    },
    "id": "dFTh1oC9HF_L",
    "outputId": "37c18f98-0412-4f80-e652-dbe72709e2a5"
   },
   "outputs": [
    {
     "name": "stdout",
     "output_type": "stream",
     "text": [
      "[[120  59]\n",
      " [ 42 237]]\n",
      "              precision    recall  f1-score   support\n",
      "\n",
      "           0       0.74      0.67      0.70       179\n",
      "           1       0.80      0.85      0.82       279\n",
      "\n",
      "    accuracy                           0.78       458\n",
      "   macro avg       0.77      0.76      0.76       458\n",
      "weighted avg       0.78      0.78      0.78       458\n",
      "\n"
     ]
    }
   ],
   "source": [
    "from sklearn.metrics import classification_report, confusion_matrix\n",
    "print(confusion_matrix(y_test, y_pred))\n",
    "print(classification_report(y_test, y_pred))"
   ]
  },
  {
   "cell_type": "code",
   "execution_count": 28,
   "metadata": {
    "colab": {
     "base_uri": "https://localhost:8080/"
    },
    "id": "P3lD9nfmHmRG",
    "outputId": "6a26e2bf-7034-4ef4-c78b-9a0529e7378f"
   },
   "outputs": [
    {
     "data": {
      "text/plain": [
       "0.7794759825327511"
      ]
     },
     "execution_count": 28,
     "metadata": {
      "tags": []
     },
     "output_type": "execute_result"
    }
   ],
   "source": [
    "classifier.score(X_test, y_test)"
   ]
  },
  {
   "cell_type": "markdown",
   "metadata": {
    "id": "lTValhauJdO7"
   },
   "source": [
    "K-fold"
   ]
  },
  {
   "cell_type": "code",
   "execution_count": 42,
   "metadata": {
    "id": "ESTG8UQqI-zT"
   },
   "outputs": [],
   "source": [
    "knn_cv = KNeighborsClassifier(n_neighbors=5)"
   ]
  },
  {
   "cell_type": "code",
   "execution_count": 43,
   "metadata": {
    "id": "H7FM9vxwJYpi"
   },
   "outputs": [],
   "source": [
    "cv_scores = cross_val_score(knn_cv, X, y, cv=5)"
   ]
  },
  {
   "cell_type": "code",
   "execution_count": 44,
   "metadata": {
    "colab": {
     "base_uri": "https://localhost:8080/"
    },
    "id": "d50mVGucJcoG",
    "outputId": "4036762a-b5d8-41c8-c099-11bb965b15e0"
   },
   "outputs": [
    {
     "name": "stdout",
     "output_type": "stream",
     "text": [
      "[0.58032787 0.54098361 0.61967213 0.73114754 0.64144737]\n"
     ]
    }
   ],
   "source": [
    "print(cv_scores)"
   ]
  },
  {
   "cell_type": "code",
   "execution_count": 40,
   "metadata": {
    "colab": {
     "base_uri": "https://localhost:8080/"
    },
    "id": "b3gsfOT1J7gu",
    "outputId": "10c08fb3-ae15-4c6c-c6dc-4ea6c0821ef3"
   },
   "outputs": [
    {
     "name": "stdout",
     "output_type": "stream",
     "text": [
      "[0.7554585152838428, 0.7445414847161572, 0.759825327510917, 0.7729257641921398, 0.7794759825327511, 0.777292576419214, 0.7620087336244541, 0.7685589519650655, 0.777292576419214, 0.7882096069868996, 0.7532751091703057, 0.7663755458515283, 0.7641921397379913, 0.7685589519650655, 0.7663755458515283, 0.7663755458515283, 0.759825327510917, 0.75764192139738, 0.7489082969432315, 0.7620087336244541, 0.7510917030567685, 0.75764192139738, 0.7620087336244541, 0.7685589519650655, 0.7641921397379913]\n"
     ]
    }
   ],
   "source": [
    "k_range = range(1, 26)\n",
    "scores = []\n",
    "for k in k_range:\n",
    "    knn = KNeighborsClassifier(n_neighbors=k)\n",
    "    knn.fit(X_train, y_train)\n",
    "    y_pred = knn.predict(X_test)\n",
    "    scores.append(metrics.accuracy_score(y_test, y_pred))\n",
    "\n",
    "print(scores)"
   ]
  },
  {
   "cell_type": "code",
   "execution_count": 41,
   "metadata": {
    "id": "f4PwUJMFJnKr"
   },
   "outputs": [],
   "source": [
    "# best k value is 5 in KNN."
   ]
  },
  {
   "cell_type": "code",
   "execution_count": 50,
   "metadata": {
    "id": "07LP0jHWK4EG"
   },
   "outputs": [],
   "source": [
    "from scipy.cluster.hierarchy import dendrogram, linkage\n",
    "from matplotlib import pyplot as plt\n",
    "\n",
    "linked = linkage(us, 'single')\n",
    "plt.show()"
   ]
  },
  {
   "cell_type": "code",
   "execution_count": 51,
   "metadata": {
    "colab": {
     "base_uri": "https://localhost:8080/"
    },
    "id": "ZUn0V4-eTCzj",
    "outputId": "dc894449-6ba1-4e94-b579-aeb27a6ea450"
   },
   "outputs": [
    {
     "data": {
      "text/plain": [
       "array([[8.04000000e+02, 8.07000000e+02, 0.00000000e+00, 2.00000000e+00],\n",
       "       [1.09200000e+03, 1.09600000e+03, 1.24106229e-02, 2.00000000e+00],\n",
       "       [4.94000000e+02, 4.95000000e+02, 4.61233997e-02, 2.00000000e+00],\n",
       "       ...,\n",
       "       [4.54000000e+02, 3.04300000e+03, 1.54286726e+01, 1.52200000e+03],\n",
       "       [3.96000000e+02, 3.04400000e+03, 1.77448420e+01, 1.52300000e+03],\n",
       "       [5.53000000e+02, 3.04500000e+03, 2.15519912e+01, 1.52400000e+03]])"
      ]
     },
     "execution_count": 51,
     "metadata": {
      "tags": []
     },
     "output_type": "execute_result"
    }
   ],
   "source": [
    "linked"
   ]
  },
  {
   "cell_type": "code",
   "execution_count": 54,
   "metadata": {
    "colab": {
     "base_uri": "https://localhost:8080/",
     "height": 610
    },
    "id": "Y9JUiRNcUywg",
    "outputId": "a0c5bdaa-cf83-44eb-9032-d269ba8afb10"
   },
   "outputs": [
    {
     "data": {
      "image/png": "[encoded data removed]",
      "text/plain": [
       "<Figure size 1080x720 with 1 Axes>"
      ]
     },
     "metadata": {
      "needs_background": "light",
      "tags": []
     },
     "output_type": "display_data"
    }
   ],
   "source": [
    "import scipy.cluster.hierarchy as shc\n",
    "\n",
    "plt.figure(figsize=(15, 10))\n",
    "plt.title(\"US election Dendograms\")\n",
    "dend = shc.dendrogram(shc.linkage(us, method='ward'))"
   ]
  },
  {
   "cell_type": "code",
   "execution_count": null,
   "metadata": {
    "id": "INJUcaK0VCSq"
   },
   "outputs": [],
   "source": []
  }
 ],
 "metadata": {
  "colab": {
   "name": "US_election dataset.ipynb",
   "provenance": []
  },
  "kernelspec": {
   "display_name": "Python 3",
   "language": "python",
   "name": "python3"
  },
  "language_info": {
   "codemirror_mode": {
    "name": "ipython",
    "version": 3
   },
   "file_extension": ".py",
   "mimetype": "text/x-python",
   "name": "python",
   "nbconvert_exporter": "python",
   "pygments_lexer": "ipython3",
   "version": "3.8.5"
  }
 },
 "nbformat": 4,
 "nbformat_minor": 1
}
